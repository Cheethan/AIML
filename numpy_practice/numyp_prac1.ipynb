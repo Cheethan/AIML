{
 "cells": [
  {
   "cell_type": "markdown",
   "id": "e1134d2b-2e2e-4be8-818c-360edbecf116",
   "metadata": {},
   "source": [
    "# Array Creation"
   ]
  },
  {
   "cell_type": "code",
   "execution_count": 2,
   "id": "7675a140-a3d6-4a46-b984-bea21adfed81",
   "metadata": {},
   "outputs": [
    {
     "name": "stdout",
     "output_type": "stream",
     "text": [
      "<class 'numpy.ndarray'>\n",
      "[1 2 3 3 4 4]\n",
      "[7.000e+00 1.000e+00 2.000e+00 1.000e+00 1.000e+00 1.232e+03]\n"
     ]
    }
   ],
   "source": [
    "import numpy as np\n",
    "\n",
    "arr = np.array([1,2,3,3,4,4])\n",
    "arr1 = np.array([7,1,2,1,1,1232],dtype = float)\n",
    "\n",
    "print(type(arr))\n",
    "print(arr)\n",
    "print(arr1)"
   ]
  },
  {
   "cell_type": "code",
   "execution_count": 13,
   "id": "7f45f63f-a432-45db-b1c1-2d7eff5510f0",
   "metadata": {},
   "outputs": [
    {
     "name": "stdout",
     "output_type": "stream",
     "text": [
      "[1 2 3 3 4 4]\n",
      "[ True  True  True  True  True  True]\n"
     ]
    }
   ],
   "source": [
    "print(arr)\n",
    "arr = arr.astype(bool)\n",
    "print(arr)"
   ]
  },
  {
   "cell_type": "code",
   "execution_count": 21,
   "id": "0a0c2436-a484-462c-a8a1-d499bac71c81",
   "metadata": {},
   "outputs": [
    {
     "data": {
      "text/plain": [
       "array([ 1,  6, 11, 16, 21, 26, 31, 36, 41, 46, 51, 56, 61, 66, 71, 76, 81,\n",
       "       86])"
      ]
     },
     "execution_count": 21,
     "metadata": {},
     "output_type": "execute_result"
    }
   ],
   "source": [
    "np.arange(1,90,5) # [1,90)"
   ]
  },
  {
   "cell_type": "code",
   "execution_count": 24,
   "id": "a036bac5-db4e-41e2-8bcf-e6f0f4bd2689",
   "metadata": {},
   "outputs": [
    {
     "data": {
      "text/plain": [
       "array([[ 1, 11, 21, 31],\n",
       "       [41, 51, 61, 71]])"
      ]
     },
     "execution_count": 24,
     "metadata": {},
     "output_type": "execute_result"
    }
   ],
   "source": [
    "np.arange(1,81,10).reshape(2,4)"
   ]
  },
  {
   "cell_type": "code",
   "execution_count": 26,
   "id": "2888fbd4-abda-4228-9477-a3004b78f956",
   "metadata": {},
   "outputs": [
    {
     "data": {
      "text/plain": [
       "array([[1.],\n",
       "       [1.],\n",
       "       [1.],\n",
       "       [1.],\n",
       "       [1.],\n",
       "       [1.],\n",
       "       [1.],\n",
       "       [1.],\n",
       "       [1.]])"
      ]
     },
     "execution_count": 26,
     "metadata": {},
     "output_type": "execute_result"
    }
   ],
   "source": [
    "np.ones((9,1))"
   ]
  },
  {
   "cell_type": "code",
   "execution_count": 37,
   "id": "8785e6d1-7ec1-4fd6-aaf7-e2d0cd86cd59",
   "metadata": {},
   "outputs": [
    {
     "data": {
      "text/plain": [
       "array([[0.77516349, 0.74889272, 0.10186315, 0.28328175],\n",
       "       [0.88541312, 0.35104022, 0.69291345, 0.63156626]])"
      ]
     },
     "execution_count": 37,
     "metadata": {},
     "output_type": "execute_result"
    }
   ],
   "source": [
    "np.random.rand(2,4)"
   ]
  },
  {
   "cell_type": "code",
   "execution_count": 34,
   "id": "8ee54012-48d7-4833-801f-2fcba0d0eee2",
   "metadata": {},
   "outputs": [
    {
     "data": {
      "text/plain": [
       "array([ 1.  ,  3.25,  5.5 ,  7.75, 10.  ])"
      ]
     },
     "execution_count": 34,
     "metadata": {},
     "output_type": "execute_result"
    }
   ],
   "source": [
    "np.linspace(1,10,5) # generates 5 points btw [1,10]"
   ]
  },
  {
   "cell_type": "code",
   "execution_count": 35,
   "id": "bb14ce98-710c-4c3c-af20-4b1bb7d2a5e7",
   "metadata": {},
   "outputs": [
    {
     "data": {
      "text/plain": [
       "array([[1., 0., 0., 0., 0., 0., 0., 0., 0., 0.],\n",
       "       [0., 1., 0., 0., 0., 0., 0., 0., 0., 0.],\n",
       "       [0., 0., 1., 0., 0., 0., 0., 0., 0., 0.],\n",
       "       [0., 0., 0., 1., 0., 0., 0., 0., 0., 0.],\n",
       "       [0., 0., 0., 0., 1., 0., 0., 0., 0., 0.],\n",
       "       [0., 0., 0., 0., 0., 1., 0., 0., 0., 0.],\n",
       "       [0., 0., 0., 0., 0., 0., 1., 0., 0., 0.],\n",
       "       [0., 0., 0., 0., 0., 0., 0., 1., 0., 0.],\n",
       "       [0., 0., 0., 0., 0., 0., 0., 0., 1., 0.],\n",
       "       [0., 0., 0., 0., 0., 0., 0., 0., 0., 1.]])"
      ]
     },
     "execution_count": 35,
     "metadata": {},
     "output_type": "execute_result"
    }
   ],
   "source": [
    "np.identity(10) "
   ]
  },
  {
   "cell_type": "markdown",
   "id": "6843efdd-ff78-43d7-b0cb-3da8040c03bf",
   "metadata": {},
   "source": [
    "# Attributes"
   ]
  },
  {
   "cell_type": "code",
   "execution_count": 64,
   "id": "8bb55492-981f-48df-a675-0c641215014a",
   "metadata": {},
   "outputs": [
    {
     "name": "stdout",
     "output_type": "stream",
     "text": [
      "(2, 2)\n",
      "3\n",
      "8\n",
      "1\n"
     ]
    }
   ],
   "source": [
    "a1 = np.ones((4),dtype = bool)\n",
    "a2 = np.ones((2,2))\n",
    "a3 = np.ones((2,2,2))\n",
    "a4 = np.array([[12,2,3,1],[2,2222,2,12]])\n",
    "print(a2.shape)\n",
    "print(a3.ndim)\n",
    "print(a3.size)\n",
    "print(a1.itemsize)"
   ]
  },
  {
   "cell_type": "code",
   "execution_count": 56,
   "id": "05433291-a81f-496a-9610-60eede1f5b04",
   "metadata": {},
   "outputs": [
    {
     "data": {
      "text/plain": [
       "array([1., 1., 1., 1.])"
      ]
     },
     "execution_count": 56,
     "metadata": {},
     "output_type": "execute_result"
    }
   ],
   "source": [
    "a1.astype(float)\n"
   ]
  },
  {
   "cell_type": "markdown",
   "id": "f7aaa87c-e529-4e0a-955f-46ba5a04c4a4",
   "metadata": {},
   "source": [
    "# Functions"
   ]
  },
  {
   "cell_type": "code",
   "execution_count": 69,
   "id": "61a52616-2103-4d05-8d99-64431ca1798d",
   "metadata": {},
   "outputs": [
    {
     "data": {
      "text/plain": [
       "array([  12, 2222,    3,   12])"
      ]
     },
     "execution_count": 69,
     "metadata": {},
     "output_type": "execute_result"
    }
   ],
   "source": [
    "# axis = 0 -> col, axis = 1 -> row\n",
    "# max/min/sum/prod/mean/median/var/std\n",
    "\n",
    "np.max(arr1)\n",
    "np.max(a4,axis=0)"
   ]
  },
  {
   "cell_type": "code",
   "execution_count": 75,
   "id": "6c9f4d64-a83a-43c2-9a6e-423de5274589",
   "metadata": {},
   "outputs": [
    {
     "data": {
      "text/plain": [
       "array([[ 158, 6704],\n",
       "       [6718, 6814]])"
      ]
     },
     "execution_count": 75,
     "metadata": {},
     "output_type": "execute_result"
    }
   ],
   "source": [
    "a5 = np.array([[12,2],[3,1],[2,2222],[2,12]])\n",
    "\n",
    "# dot/round/ceil/floor\n",
    "\n",
    "np.dot(a4,a5)\n"
   ]
  },
  {
   "cell_type": "markdown",
   "id": "513c3efc-c3a0-49fb-8843-9c534ee6fdb6",
   "metadata": {},
   "source": [
    "# Slicing"
   ]
  },
  {
   "cell_type": "code",
   "execution_count": 78,
   "id": "be4b9d1b-de77-48ea-8908-6a416bb6f75a",
   "metadata": {},
   "outputs": [
    {
     "name": "stdout",
     "output_type": "stream",
     "text": [
      "[[ 0  1  2  3]\n",
      " [ 4  5  6  7]\n",
      " [ 8  9 10 11]]\n"
     ]
    }
   ],
   "source": [
    "a5 = np.arange(12).reshape((3,4))\n",
    "print(a5)"
   ]
  },
  {
   "cell_type": "code",
   "execution_count": 84,
   "id": "38749df4-0313-4685-b3eb-f3fda02b73fb",
   "metadata": {},
   "outputs": [
    {
     "data": {
      "text/plain": [
       "array([[ 0,  3],\n",
       "       [ 8, 11]])"
      ]
     },
     "execution_count": 84,
     "metadata": {},
     "output_type": "execute_result"
    }
   ],
   "source": [
    "a5[0::2,0::3]"
   ]
  },
  {
   "cell_type": "code",
   "execution_count": 83,
   "id": "498b8b72-ab7a-4911-b605-177cbaaa4025",
   "metadata": {},
   "outputs": [
    {
     "data": {
      "text/plain": [
       "array([4, 7])"
      ]
     },
     "execution_count": 83,
     "metadata": {},
     "output_type": "execute_result"
    }
   ],
   "source": [
    "a5[-2,0::3]"
   ]
  },
  {
   "cell_type": "code",
   "execution_count": 85,
   "id": "ac8719df-87c8-4e64-970e-a873047ace5a",
   "metadata": {},
   "outputs": [
    {
     "data": {
      "text/plain": [
       "array([[1, 2, 3],\n",
       "       [5, 6, 7]])"
      ]
     },
     "execution_count": 85,
     "metadata": {},
     "output_type": "execute_result"
    }
   ],
   "source": [
    "a5[0:2,1:]"
   ]
  },
  {
   "cell_type": "code",
   "execution_count": 87,
   "id": "740fa37e-c6ef-41df-9fb4-8b10df22cf1d",
   "metadata": {},
   "outputs": [
    {
     "name": "stdout",
     "output_type": "stream",
     "text": [
      "[[[ 0  1  2]\n",
      "  [ 3  4  5]\n",
      "  [ 6  7  8]]\n",
      "\n",
      " [[ 9 10 11]\n",
      "  [12 13 14]\n",
      "  [15 16 17]]\n",
      "\n",
      " [[18 19 20]\n",
      "  [21 22 23]\n",
      "  [24 25 26]]]\n"
     ]
    }
   ],
   "source": [
    "a5 = np.arange(27).reshape(3,3,3)\n",
    "print(a5)"
   ]
  },
  {
   "cell_type": "code",
   "execution_count": 95,
   "id": "57fc82cd-91fc-4531-b581-3b2daf653193",
   "metadata": {},
   "outputs": [
    {
     "data": {
      "text/plain": [
       "array([[ 0,  2],\n",
       "       [18, 20]])"
      ]
     },
     "execution_count": 95,
     "metadata": {},
     "output_type": "execute_result"
    }
   ],
   "source": [
    "a5[0::2,0,0::2]"
   ]
  },
  {
   "cell_type": "code",
   "execution_count": 30,
   "id": "3f722264-17da-485b-8623-cc63e7020324",
   "metadata": {},
   "outputs": [
    {
     "name": "stdout",
     "output_type": "stream",
     "text": [
      "98\n",
      "48\n",
      "37\n",
      "26\n",
      "89\n",
      "6\n",
      "53\n",
      "1\n"
     ]
    }
   ],
   "source": [
    "# npiter() - no matter the dim of the tensor, it converts it into a scalar and prints its\n",
    "\n",
    "a5 = np.random.random((2,2,2))*10\n",
    "\n",
    "a5 = np.random.randint(1,100,8).reshape(2,2,2)\n",
    "\n",
    "for i in np.nditer(a5):\n",
    "    print(i)"
   ]
  },
  {
   "cell_type": "code",
   "execution_count": 104,
   "id": "6f4a7962-cc4d-4a1b-a876-acb3a6fc7674",
   "metadata": {},
   "outputs": [
    {
     "name": "stdout",
     "output_type": "stream",
     "text": [
      "[[  12    2    3    1]\n",
      " [   2 2222    2   12]]\n"
     ]
    },
    {
     "data": {
      "text/plain": [
       "array([[  12,    2],\n",
       "       [   2, 2222],\n",
       "       [   3,    2],\n",
       "       [   1,   12]])"
      ]
     },
     "execution_count": 104,
     "metadata": {},
     "output_type": "execute_result"
    }
   ],
   "source": [
    "# transpose \n",
    "print(a4)\n",
    "a4.T # np.transpose(a4)"
   ]
  },
  {
   "cell_type": "code",
   "execution_count": 109,
   "id": "7df2ad51-22c2-4b60-8a17-b433ce6b69d4",
   "metadata": {},
   "outputs": [
    {
     "name": "stdout",
     "output_type": "stream",
     "text": [
      "[  12    2    3    1    2 2222    2   12]\n"
     ]
    },
    {
     "data": {
      "text/plain": [
       "array([0.74215147, 0.16523892, 0.01352082, 0.24554789, 0.29842266,\n",
       "       0.14739336, 0.46856055, 0.14908638, 0.194209  , 0.77337253,\n",
       "       0.10388502, 0.0874451 , 0.91708874, 0.43576066, 0.74476958,\n",
       "       0.56547658, 0.03068972, 0.65973212, 0.88424044, 0.1822823 ,\n",
       "       0.14664191, 0.06064719, 0.55965687, 0.91785895, 0.49083862,\n",
       "       0.53666734, 0.29380711, 0.39912056, 0.1060895 , 0.71410744,\n",
       "       0.52050108, 0.18846891, 0.57526651, 0.55088796, 0.73799723,\n",
       "       0.80087296, 0.83897764, 0.13751539, 0.42871111, 0.05969806,\n",
       "       0.62690319, 0.67237275, 0.96596036, 0.81842997, 0.5240903 ,\n",
       "       0.71440984, 0.94396101, 0.94525482, 0.78423779, 0.25473963,\n",
       "       0.06599968, 0.97357829, 0.87521151, 0.96929935, 0.33432906,\n",
       "       0.61711956, 0.96725551, 0.82054384, 0.53994997, 0.383016  ,\n",
       "       0.48609233, 0.76385567, 0.06712154, 0.40911041, 0.99305169,\n",
       "       0.55852135, 0.31088507, 0.98033489, 0.78313486, 0.99524165,\n",
       "       0.07823757, 0.86533068, 0.06896033, 0.03549471, 0.63727681,\n",
       "       0.56382242, 0.56028868, 0.33696612, 0.6665158 , 0.05908487,\n",
       "       0.01427007, 0.16400833, 0.1779518 , 0.62236141, 0.76965439,\n",
       "       0.18707536, 0.53085558, 0.30086371, 0.34999558, 0.44415872,\n",
       "       0.39860878, 0.46234479, 0.78831992, 0.68479273, 0.86875154,\n",
       "       0.40665072, 0.88515868, 0.09984666, 0.83854018, 0.60893766,\n",
       "       0.08857798, 0.97939513, 0.33481295, 0.30935619, 0.06837513,\n",
       "       0.63307969, 0.31675548, 0.63892959, 0.40111341, 0.11376978,\n",
       "       0.80459053, 0.36209417, 0.0047861 , 0.27550916, 0.04545542,\n",
       "       0.53102934, 0.70969571, 0.80775902, 0.24557597, 0.46914738,\n",
       "       0.73107452, 0.3369324 , 0.70082188, 0.01969274, 0.40455823,\n",
       "       0.23186114, 0.78982006, 0.60045292, 0.69404379, 0.11706451,\n",
       "       0.61510762, 0.49714318, 0.55672785, 0.43101611, 0.55508178,\n",
       "       0.87711337, 0.95991485, 0.33040303, 0.69436484, 0.88854256,\n",
       "       0.56336143, 0.70153945, 0.41898312, 0.8771828 , 0.61616884,\n",
       "       0.28887194, 0.26457779, 0.82398527, 0.98541226, 0.19740904,\n",
       "       0.03390743, 0.90598917, 0.06835606, 0.52199563, 0.32676995,\n",
       "       0.25427349, 0.83751615, 0.58481823, 0.53381014, 0.5539273 ,\n",
       "       0.4110783 , 0.42343768, 0.69206816, 0.09506079, 0.95268564,\n",
       "       0.96908789, 0.33971524, 0.93930605, 0.84352779, 0.33744995,\n",
       "       0.09198712, 0.34135672, 0.69273524, 0.89433883, 0.18565271,\n",
       "       0.12455462, 0.80442074, 0.97197179, 0.32778561, 0.61756246,\n",
       "       0.02966094, 0.14618373, 0.54879787, 0.23162641, 0.97687836,\n",
       "       0.63740456, 0.37224423, 0.62416537, 0.95207235, 0.54079543,\n",
       "       0.38123475, 0.77426142, 0.07125787, 0.20620063, 0.16713101,\n",
       "       0.88629529, 0.24555886, 0.87746365, 0.78619713, 0.45335372,\n",
       "       0.29418938, 0.26945247, 0.61595702, 0.7429563 , 0.17753095,\n",
       "       0.13393289, 0.34112246, 0.35225023, 0.51585349, 0.06036413,\n",
       "       0.32021918, 0.49530038, 0.18124638, 0.7508266 , 0.06122396,\n",
       "       0.42651111, 0.42348448, 0.08946742, 0.76810844, 0.33806307,\n",
       "       0.7258354 , 0.396489  , 0.77443853, 0.5852771 , 0.47683685,\n",
       "       0.6412127 , 0.52600474, 0.6901273 , 0.35678005, 0.98598434,\n",
       "       0.44168776, 0.65654201, 0.00481229, 0.36705205, 0.51957312,\n",
       "       0.23051505, 0.68755579, 0.33586975, 0.46364904, 0.38779597,\n",
       "       0.108204  , 0.16647592, 0.00210304])"
      ]
     },
     "execution_count": 109,
     "metadata": {},
     "output_type": "execute_result"
    }
   ],
   "source": [
    "# ravel() - consverts a tesnor in to a vector \n",
    "print(a4.ravel())\n",
    "a5.ravel()"
   ]
  },
  {
   "cell_type": "markdown",
   "id": "b9bca33f-d4c7-496c-b490-a9072a18e729",
   "metadata": {},
   "source": [
    "# Stacking"
   ]
  },
  {
   "cell_type": "code",
   "execution_count": 113,
   "id": "5a14fa46-6496-46b6-95c0-06fb8d5de172",
   "metadata": {},
   "outputs": [
    {
     "data": {
      "text/plain": [
       "array([[0, 1, 4, 5, 0, 1],\n",
       "       [2, 3, 6, 7, 2, 3]])"
      ]
     },
     "execution_count": 113,
     "metadata": {},
     "output_type": "execute_result"
    }
   ],
   "source": [
    "arr2 = np.arange(4).reshape((2,2))\n",
    "arr3 = np.arange(4,8).reshape((2,2))\n",
    "\n",
    "np.hstack((arr2,arr3,arr2))"
   ]
  },
  {
   "cell_type": "code",
   "execution_count": 114,
   "id": "3cdc9d21-8d12-4ce1-b3ac-39f35dfd2d33",
   "metadata": {},
   "outputs": [
    {
     "data": {
      "text/plain": [
       "array([[4, 5],\n",
       "       [6, 7],\n",
       "       [0, 1],\n",
       "       [2, 3]])"
      ]
     },
     "execution_count": 114,
     "metadata": {},
     "output_type": "execute_result"
    }
   ],
   "source": [
    "np.vstack((arr3,arr2))"
   ]
  },
  {
   "cell_type": "code",
   "execution_count": 118,
   "id": "a7e7e5d2-6b44-4dcb-872b-b00f13dcaae7",
   "metadata": {},
   "outputs": [
    {
     "data": {
      "text/plain": [
       "[array([[0, 1],\n",
       "        [2, 3]]),\n",
       " array([[4, 5],\n",
       "        [6, 7]]),\n",
       " array([[0, 1],\n",
       "        [2, 3]])]"
      ]
     },
     "execution_count": 118,
     "metadata": {},
     "output_type": "execute_result"
    }
   ],
   "source": [
    "k = np.hstack((arr2,arr3,arr2))\n",
    "np.hsplit(k,3)"
   ]
  },
  {
   "cell_type": "code",
   "execution_count": 121,
   "id": "601de2ce-3d0e-44a4-9ca1-5f1cef3b3cc3",
   "metadata": {},
   "outputs": [
    {
     "data": {
      "text/plain": [
       "[array([[0, 1, 4, 5, 0, 1]]), array([[2, 3, 6, 7, 2, 3]])]"
      ]
     },
     "execution_count": 121,
     "metadata": {},
     "output_type": "execute_result"
    }
   ],
   "source": [
    "np.vsplit(k,2)"
   ]
  },
  {
   "cell_type": "markdown",
   "id": "acba6a0d-f359-4682-9378-6b796ea416d5",
   "metadata": {},
   "source": [
    "# Fancy indexing - required columns are passed thorugh a list \n",
    "#### Broadcasting example"
   ]
  },
  {
   "cell_type": "code",
   "execution_count": 6,
   "id": "f74372c4-f7e6-4f1e-a97e-7b16f9b93e43",
   "metadata": {},
   "outputs": [
    {
     "data": {
      "text/plain": [
       "array([[12, 14, 15],\n",
       "       [16, 18, 19],\n",
       "       [20, 22, 23]])"
      ]
     },
     "execution_count": 6,
     "metadata": {},
     "output_type": "execute_result"
    }
   ],
   "source": [
    "\n",
    "\n",
    "a = np.arange(36).reshape(3,3,4)\n",
    "\n",
    "# Need the below matrix\n",
    "# [[12 14 15]\n",
    "#  [16 18 19]\n",
    "#  [20 22 23]]\n",
    "\n",
    "\n",
    "\n",
    "a[1,::,[0,2,3]] # corss indexing (Broadcasting Behaviour)\n",
    "a[1][:,[0,2,3]] "
   ]
  },
  {
   "cell_type": "markdown",
   "id": "29f49ab8-fe3a-44b4-a70f-63852f6fce9c",
   "metadata": {},
   "source": [
    "# Boolean indexing "
   ]
  },
  {
   "cell_type": "code",
   "execution_count": 46,
   "id": "bde424cb-0b75-40fe-86e3-1e1af10b1ee1",
   "metadata": {},
   "outputs": [
    {
     "data": {
      "text/plain": [
       "array([12., 14., 16., 18., 20., 22., 24., 26., 28., 30., 32., 34.])"
      ]
     },
     "execution_count": 46,
     "metadata": {},
     "output_type": "execute_result"
    }
   ],
   "source": [
    "a > 10\n",
    "a[(a % 2 == 0) & (a > 10)] # when using bits (a > 10 returns true or false similaly odd even check) we use &"
   ]
  },
  {
   "cell_type": "code",
   "execution_count": 7,
   "id": "3f0dd6ef-771f-4c5b-9789-36819a7ba1c6",
   "metadata": {},
   "outputs": [
    {
     "data": {
      "text/plain": [
       "array([[[0.5       , 0.73105858, 0.88079708, 0.95257413],\n",
       "        [0.98201379, 0.99330715, 0.99752738, 0.99908895],\n",
       "        [0.99966465, 0.99987661, 0.9999546 , 0.9999833 ]],\n",
       "\n",
       "       [[0.99999386, 0.99999774, 0.99999917, 0.99999969],\n",
       "        [0.99999989, 0.99999996, 0.99999998, 0.99999999],\n",
       "        [1.        , 1.        , 1.        , 1.        ]],\n",
       "\n",
       "       [[1.        , 1.        , 1.        , 1.        ],\n",
       "        [1.        , 1.        , 1.        , 1.        ],\n",
       "        [1.        , 1.        , 1.        , 1.        ]]])"
      ]
     },
     "execution_count": 7,
     "metadata": {},
     "output_type": "execute_result"
    }
   ],
   "source": [
    "#Sigmoid of x -> 1/(1+e^x) always lies btn 0-1\n",
    "\n",
    "def sigmoid(arr):\n",
    "    return 1/(1+np.exp(-(arr)))\n",
    "\n",
    "sigmoid(a)"
   ]
  },
  {
   "cell_type": "code",
   "execution_count": 10,
   "id": "429099fc-78a6-4831-85be-b5bec806a00c",
   "metadata": {},
   "outputs": [
    {
     "data": {
      "text/plain": [
       "[<matplotlib.lines.Line2D at 0x23545a13e90>]"
      ]
     },
     "execution_count": 10,
     "metadata": {},
     "output_type": "execute_result"
    },
    {
     "data": {
      "image/png": "[encoded data removed]",
      "text/plain": [
       "<Figure size 640x480 with 1 Axes>"
      ]
     },
     "metadata": {},
     "output_type": "display_data"
    }
   ],
   "source": [
    "import matplotlib.pyplot as plt\n",
    "\n",
    "x = np.linspace(-100,100,1000000)\n",
    "y = sigmoid(x)\n",
    "\n",
    "plt.plot(x,y)"
   ]
  },
  {
   "cell_type": "markdown",
   "id": "462574c3-9490-490f-ba14-eaef99f388a5",
   "metadata": {},
   "source": [
    "# Most used functions"
   ]
  },
  {
   "cell_type": "code",
   "execution_count": 5,
   "id": "c27d2391-7c5f-4b18-a7a0-ae34edb4316b",
   "metadata": {},
   "outputs": [
    {
     "name": "stdout",
     "output_type": "stream",
     "text": [
      "[[[97  8 86]\n",
      "  [70 39 35]\n",
      "  [32 87 95]]\n",
      "\n",
      " [[83 88 19]\n",
      "  [94 63 69]\n",
      "  [84 10 56]]\n",
      "\n",
      " [[64 63 80]\n",
      "  [16 45 36]\n",
      "  [44 85  2]]]\n"
     ]
    }
   ],
   "source": [
    "arr3 = np.random.randint(1,100,27).reshape(3,3,3)\n",
    "\n",
    "print(arr3)"
   ]
  },
  {
   "cell_type": "code",
   "execution_count": 17,
   "id": "1d64a395-0ac4-4288-bb8d-9e4b355fdc42",
   "metadata": {},
   "outputs": [
    {
     "data": {
      "text/plain": [
       "array([[[63, 64, 80],\n",
       "        [16, 36, 45],\n",
       "        [ 2, 44, 85]],\n",
       "\n",
       "       [[19, 83, 88],\n",
       "        [63, 69, 94],\n",
       "        [10, 56, 84]],\n",
       "\n",
       "       [[ 8, 86, 97],\n",
       "        [35, 39, 70],\n",
       "        [32, 87, 95]]], dtype=int32)"
      ]
     },
     "execution_count": 17,
     "metadata": {},
     "output_type": "execute_result"
    }
   ],
   "source": [
    "np.sort(arr3) # sorted row wise - returns a nd array\n",
    "np.sort(arr3, axis = 0)\n",
    "np.sort(arr3)[::-1] # sort in decending "
   ]
  },
  {
   "cell_type": "code",
   "execution_count": 19,
   "id": "52c5bbe4-0eb4-497c-a65c-f1c4a0146cc3",
   "metadata": {},
   "outputs": [],
   "source": [
    "# append(), concatinate() - simalar to v,h stacks"
   ]
  },
  {
   "cell_type": "code",
   "execution_count": 21,
   "id": "3675bf29-9666-4c47-b165-6abd6962a43e",
   "metadata": {},
   "outputs": [
    {
     "data": {
      "text/plain": [
       "array([ 2,  8, 10, 16, 19, 32, 35, 36, 39, 44, 45, 56, 63, 64, 69, 70, 80,\n",
       "       83, 84, 85, 86, 87, 88, 94, 95, 97], dtype=int32)"
      ]
     },
     "execution_count": 21,
     "metadata": {},
     "output_type": "execute_result"
    }
   ],
   "source": [
    "np.unique(arr3) # To get unique elements "
   ]
  },
  {
   "cell_type": "code",
   "execution_count": 42,
   "id": "88c32e35-433a-4f63-b28c-031d71f0b206",
   "metadata": {},
   "outputs": [
    {
     "name": "stdout",
     "output_type": "stream",
     "text": [
      "(2, 5)\n"
     ]
    },
    {
     "data": {
      "text/plain": [
       "(2, 5, 1)"
      ]
     },
     "execution_count": 42,
     "metadata": {},
     "output_type": "execute_result"
    }
   ],
   "source": [
    "arr4 = np.random.randint(1,100,10).reshape(2,5)\n",
    "print(arr4.shape)\n",
    "\n",
    "np.expand_dims(arr4,axis=2).shape   # ndims - expands the arrays dimensions "
   ]
  },
  {
   "cell_type": "code",
   "execution_count": 47,
   "id": "d4dda431-4a11-4b13-be33-14f27900f6aa",
   "metadata": {},
   "outputs": [
    {
     "name": "stdout",
     "output_type": "stream",
     "text": [
      "[[26 10 35 99 53]\n",
      " [26 56 24 71 62]]\n"
     ]
    },
    {
     "data": {
      "text/plain": [
       "(array([0, 0, 1, 1, 1]), array([3, 4, 1, 3, 4]))"
      ]
     },
     "execution_count": 47,
     "metadata": {},
     "output_type": "execute_result"
    }
   ],
   "source": [
    "# [0,3] - 99, [0,4] - 53, [1,1] - 56.....\n",
    "# where(consdition,if condition is true what to do,if condition is false what to do)\n",
    "print(arr4)\n",
    "np.where(arr4 > 43)"
   ]
  },
  {
   "cell_type": "code",
   "execution_count": 59,
   "id": "ef0fac49-62e1-45e4-a32a-88ba891ffd25",
   "metadata": {},
   "outputs": [],
   "source": [
    "# argmax - returns index of max element in the given specified axis\n",
    "# argmin\n",
    "# cumsum - cumulative sum of a given axis\n",
    "# cumprod\n",
    "# percentile - gives you percentile value in the array\n",
    "# corrcoef - gives you corelation coefficient \n",
    "# histogram \n",
    "# isin - used to serach mutiple items at a time\n",
    "# flip - reverses the array of given axis \n",
    "# put - changes the index values in the orignal array\n",
    "\n"
   ]
  },
  {
   "cell_type": "code",
   "execution_count": null,
   "id": "f37041dc-ca6c-4973-b850-dbfd5f9c2f1b",
   "metadata": {},
   "outputs": [],
   "source": []
  }
 ],
 "metadata": {
  "kernelspec": {
   "display_name": "Python 3 (ipykernel)",
   "language": "python",
   "name": "python3"
  },
  "language_info": {
   "codemirror_mode": {
    "name": "ipython",
    "version": 3
   },
   "file_extension": ".py",
   "mimetype": "text/x-python",
   "name": "python",
   "nbconvert_exporter": "python",
   "pygments_lexer": "ipython3",
   "version": "3.12.1"
  }
 },
 "nbformat": 4,
 "nbformat_minor": 5
}
